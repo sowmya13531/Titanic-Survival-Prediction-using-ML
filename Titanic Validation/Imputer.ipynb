from sklearn.base import BaseEstimator, TransformerMixin
from sklearn.impute import SimpleImputer
class AgeImputer(BaseEstimator, TransformerMixin):
    def fit(self, X, y=None):
        return self
    def transform(self, X):
        imputer = SimpleImputer(strategy="mean")
        X['Age'] = Imputer.fit_transform(X[['Age']])
        return X
