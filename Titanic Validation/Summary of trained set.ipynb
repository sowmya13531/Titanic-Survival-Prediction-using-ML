strat_train_set.info()
