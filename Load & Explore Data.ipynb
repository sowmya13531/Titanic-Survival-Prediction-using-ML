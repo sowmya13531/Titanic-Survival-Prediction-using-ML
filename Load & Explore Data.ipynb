titanic_data = pd.read_csv('train.csv')
titanic_data
titanic_data.head()
titanic_data.info()
titanic_data.describe()
